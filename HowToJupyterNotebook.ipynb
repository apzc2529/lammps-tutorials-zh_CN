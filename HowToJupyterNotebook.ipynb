{
 "cells": [
  {
   "cell_type": "markdown",
   "metadata": {},
   "source": [
    "# 如何在 Jupyter Notebook 中使用这些 LAMMPS 教程？\n",
    "\n",
    "### 作者：Mark Tschopp, mark.a.tschopp.civ at mail.mil\n",
    "\n",
    "如果你遇到问题，请联系我，我会在 Github 上修改。本 [Jupyter Notebook](http://ipython.org/notebook.html) 教程的最新版本可在 https://github.com/mrkllntschpp/lammps-tutorials 获取。"
   ]
  },
  {
   "cell_type": "markdown",
   "metadata": {},
   "source": [
    "***\n",
    "<img src=\"https://upload.wikimedia.org/wikipedia/en/c/cd/Anaconda_Logo.png\" width=\"200\" title=\"Anaconda Logo\" />\n",
    "\n",
    "### 第一步：下载 Anaconda\n",
    "\n",
    "如果你是 Python 新手，最简单的方式是在电脑上通过一个名为 Anaconda 的软件包来安装所有需要的环境，网址是 https://www.anaconda.com。进入该网站，根据你的操作系统下载最新版本的 Python（和 Anaconda）。\n",
    "\n",
    "点击、下载、保存、运行，搞定！恭喜你，现在你已经在电脑上安装好 Anaconda 和 Python 了！\n",
    "\n",
    "如果遇到问题，可以通过大量的链接和视频来帮助解决，[点击这里](https://www.google.com/search?sxsrf=ALeKk01t4vqA2pmuRVOUlODH1C9xHn5U0A%3A1586178572086&source=hp&ei=DCqLXruiAq-wytMPgZ-24AY&q=how+to+install+anaconda&oq=how+to+install+anaconda&gs_lcp=CgZwc3ktYWIQAzICCAAyAggAMgIIADICCAAyAggAMgIIADICCAAyAggAMgIIADICCAAyAggAMgIIADICCAA6BQgAEIMBOgQIIxAnOggIABAWEAoQHjoGCAAQFhAeOgcIIxCxAhAnOgQIABAKSjEIFxItMi0yNTlnMjMzZzIzMWcyNThnMTQ5ZzE5OGcyMDhnMTcwZzE3M2cyMTNnMjIyShsIGBIXMi0xZzFnMWcxZzFnMWcxZzJnOGc1ZzRQ5gpYxl9ggHFoCHAAeAGAAeYCiAG7IpIBCDAuMjQuMi4xmAEAoAEBqgEHZ3dzLXdpeg&sclient=psy-ab&ved=0ahUKEwi72NjS79PoAhUvmHIEHYGPDWwQ4dUDCAw&uact=5#spf=1586178588337)"
   ]
  },
  {
   "cell_type": "markdown",
   "metadata": {},
   "source": [
    "***\n",
    "<img src=\"https://upload.wikimedia.org/wikipedia/commons/9/91/Octicons-mark-github.svg\" width=\"15%\" title=\"Github Logo\" />\n",
    "\n",
    "### 第二步：获取教程（或者说 Git 教程？）\n",
    "\n",
    "我已经为你准备好了一切。我把所有内容上传到了 [Github](https://github.com)，我的用户账户是 [mrkllntschpp](https://github.com/mrkllntschpp)（即我的全名去掉元音字母），并放在 [LAMMPS-tutorials 仓库](https://github.com/mrkllntschpp/lammps-tutorials)。\n",
    "\n",
    "当然，很多人都用过 Github 下载文件，对吧！没错！所以，你只需要在桌面（或你想存放的地方）克隆这些文件即可。\n",
    "https://help.github.com/en/github/creating-cloning-and-archiving-repositories/cloning-a-repository\n",
    "\n",
    "我在自己的电脑上要用命令行，所以我先进入目标文件夹，然后输入 `git clone`，再粘贴 `https://github.com/mrkllntschpp/lammps-tutorials` 这个地址。\n",
    "\n",
    "即：`git clone https://github.com/mrkllntschpp/lammps-tutorials`\n",
    "\n",
    "这会把我 [LAMMPS-tutorials 仓库](https://github.com/mrkllntschpp/lammps-tutorials) 中的所有内容复制到你的电脑上。很棒吧！"
   ]
  },
  {
   "cell_type": "markdown",
   "metadata": {},
   "source": [
    "***\n",
    "<img src=\"https://upload.wikimedia.org/wikipedia/commons/thumb/3/38/Jupyter_logo.svg/1200px-Jupyter_logo.svg.png\" width=\"150\" title=\"Github Logo\" />\n",
    "\n",
    "### 第三步：在 Jupyter Notebook 中运行\n",
    "\n",
    "接下来，进入 Windows 开始菜单并运行 Anaconda Navigator。这会打开一个控制台，其中有许多可以启动的程序。启动 Jupyter Notebook 应用，它会在 Internet Explorer 或你的默认浏览器中打开一个本地目录。切换到教程所在的目录并选择一个文件，就会在 Jupyter Notebook 中打开 `*.ipynb` 文件，并启动一个 Python Kernel 来运行它。\n",
    "\n",
    "如果你是 Jupyter Notebook 新手，可以在网上找到许多入门教程，例如 [这个](https://www.google.com/url?sa=t&rct=j&q=&esrc=s&source=video&cd=1&cad=rja&uact=8&ved=0ahUKEwj3tsuJg9ToAhUHj3IEHYw0A3YQtwIIKDAA&url=https%3A%2F%2Fwww.youtube.com%2Fwatch%3Fv%3DHW29067qVWk&usg=AOvVaw21ZJjIdwH3IMVAp19RGLmx) 或 [这个](https://www.google.com/url?sa=t&rct=j&q=&esrc=s&source=video&cd=2&cad=rja&uact=8&ved=0ahUKEwj3tsuJg9ToAhUHj3IEHYw0A3YQtwIIMDAB&url=https%3A%2F%2Fwww.youtube.com%2Fwatch%3Fv%3D3C9E2yPBw7s&usg=AOvVaw1P-HedhUVdEgsS3kPk6acr)。"
   ]
  },
  {
   "cell_type": "markdown",
   "metadata": {},
   "source": [
    "***\n",
    "<div class=\"alert alert-success\">\n",
    "    <center>恭喜你！</center>\n",
    "</div>\n",
    "\n",
    "***"
   ]
  }
 ],
 "metadata": {
  "kernelspec": {
   "display_name": "Python 3",
   "language": "python",
   "name": "python3"
  },
  "language_info": {
   "codemirror_mode": {
    "name": "ipython",
    "version": 3
   },
   "file_extension": ".py",
   "mimetype": "text/x-python",
   "name": "python",
   "nbconvert_exporter": "python",
   "pygments_lexer": "ipython3",
   "version": "3.7.1"
  }
 },
 "nbformat": 4,
 "nbformat_minor": 2
}
